{
  "nbformat": 4,
  "nbformat_minor": 0,
  "metadata": {
    "colab": {
      "name": "test_notebok",
      "provenance": [],
      "authorship_tag": "ABX9TyOe7Gif3xrONzx27m8EM+K/",
      "include_colab_link": true
    },
    "kernelspec": {
      "name": "python3",
      "display_name": "Python 3"
    }
  },
  "cells": [
    {
      "cell_type": "markdown",
      "metadata": {
        "id": "view-in-github",
        "colab_type": "text"
      },
      "source": [
        "<a href=\"https://colab.research.google.com/github/rcorcoranadams/github-slideshow/blob/master/test_notebok.ipynb\" target=\"_parent\"><img src=\"https://colab.research.google.com/assets/colab-badge.svg\" alt=\"Open In Colab\"/></a>"
      ]
    },
    {
      "cell_type": "code",
      "metadata": {
        "id": "5E3IXGsei5LU",
        "colab_type": "code",
        "colab": {}
      },
      "source": [
        "This is a test."
      ],
      "execution_count": null,
      "outputs": []
    }
  ]
}